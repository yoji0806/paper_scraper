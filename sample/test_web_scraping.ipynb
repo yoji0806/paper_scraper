{
 "cells": [
  {
   "cell_type": "code",
   "execution_count": 2,
   "id": "1e491a70-5fb0-4e76-9fd5-b045395bf0d4",
   "metadata": {},
   "outputs": [],
   "source": [
    "from bs4 import BeautifulSoup\n",
    "\n",
    "import requests\n",
    "import re\n",
    "import time"
   ]
  },
  {
   "cell_type": "code",
   "execution_count": 3,
   "id": "1d32cf65-a02e-4d74-8eba-5f77572de4dd",
   "metadata": {},
   "outputs": [
    {
     "name": "stdout",
     "output_type": "stream",
     "text": [
      "beautifulsoup4                4.11.1\n"
     ]
    }
   ],
   "source": [
    "%%bash\n",
    "pip list | grep beautifulsoup4"
   ]
  },
  {
   "cell_type": "code",
   "execution_count": null,
   "id": "7a21b007-a035-48c6-99ff-84c7cf305a2c",
   "metadata": {},
   "outputs": [],
   "source": []
  },
  {
   "cell_type": "markdown",
   "id": "6002c900-4f3f-4e95-8a5f-0c50de75e44c",
   "metadata": {},
   "source": [
    "# Functions"
   ]
  },
  {
   "cell_type": "code",
   "execution_count": 4,
   "id": "a64e4e28-9338-47b6-8e7a-ba9852b2d3b7",
   "metadata": {},
   "outputs": [],
   "source": [
    "def soup(url, parser=\"html.parser\"):\n",
    "    \"\"\"Get a web page and parse\n",
    "    \n",
    "    Args:\n",
    "        url (string): url of a web page.\n",
    "        parser (string): parser available in bs4.\n",
    "\n",
    "    Returns:\n",
    "        soup_obj (bs4.BeautifulSoup): soup oject\n",
    "    \"\"\"\n",
    "    \n",
    "    response = requests.get(url)\n",
    "    #to avoid character corruption\n",
    "    response.encoding = response.apparent_encoding\n",
    "    soup_obj = BeautifulSoup(response.text, parser)\n",
    "    \n",
    "    return soup_obj"
   ]
  },
  {
   "cell_type": "code",
   "execution_count": null,
   "id": "aa0aca23-ffc5-4832-a8eb-c547f7236774",
   "metadata": {},
   "outputs": [],
   "source": []
  },
  {
   "cell_type": "markdown",
   "id": "41904257-d879-47ae-8871-758a0dbf7db3",
   "metadata": {},
   "source": [
    "# American Economic Review :[url](https://www.aeaweb.org/journals/aer/issues)"
   ]
  },
  {
   "cell_type": "code",
   "execution_count": 5,
   "id": "c175197a-83cf-43fd-b26a-672e2780ec60",
   "metadata": {},
   "outputs": [],
   "source": [
    "base_url_aer = \"https://www.aeaweb.org\"\n",
    "url_aer_issues = base_url_aer + \"/journals/aer/issues\""
   ]
  },
  {
   "cell_type": "markdown",
   "id": "73a78bb3-44db-498b-9323-aa507397f182",
   "metadata": {},
   "source": [
    "## Get issue titles and links \n",
    "\n",
    "### notebooks"
   ]
  },
  {
   "cell_type": "code",
   "execution_count": 7,
   "id": "36faee0e-e445-457d-b17b-b91b05de3142",
   "metadata": {
    "tags": []
   },
   "outputs": [
    {
     "name": "stdout",
     "output_type": "stream",
     "text": [
      "link:  https://www.aeaweb.org/issues/160 ,  title:  March 1999 (Vol. 89, No.1 )\n"
     ]
    }
   ],
   "source": [
    "# get lists of issues from issues page\n",
    "\n",
    "base_url = base_url_aer\n",
    "\n",
    "soup_obj = soup(url_aer_issues)\n",
    "lst_issues = soup_obj.find_all('a', href=re.compile('/issues/'))\n",
    "\n",
    "dic_issue_link_title = {}\n",
    "\n",
    "for issue in lst_issues:\n",
    "    link = base_url + issue['href']\n",
    "    title = issue.text\n",
    "    \n",
    "    dic_issue_link_title[link] = title\n",
    "\n",
    "# debug\n",
    "print(\"link: \",link, \", \", \"title: \", title)"
   ]
  },
  {
   "cell_type": "markdown",
   "id": "c68c6304-b2bb-445f-999a-3cebf869a3e9",
   "metadata": {},
   "source": [
    "## function"
   ]
  },
  {
   "cell_type": "code",
   "execution_count": 8,
   "id": "b2d1324f-83a3-4eb7-801f-683565cdc2c7",
   "metadata": {},
   "outputs": [],
   "source": [
    "def scrape_aer_issues():\n",
    "    \"\"\"get issue titles and links\n",
    "    \n",
    "    Get issues from AER web page.\n",
    "    Older issues is stored in JSTOR.\n",
    "    \n",
    "    Args:\n",
    "    \n",
    "    Returns:\n",
    "        dic_link_title (dict): key is issue link, value is issue title.\n",
    "    \"\"\"\n",
    "\n",
    "    dic_issue_link_title = {}\n",
    "    \n",
    "    soup_obj = soup(url_aer_issues)\n",
    "    lst_issues = soup_obj.find_all('a', href=re.compile('/issues/'))\n",
    "\n",
    "    for issue in lst_issues:\n",
    "        link = base_url + issue['href']\n",
    "        title = issue.text\n",
    "\n",
    "        dic_issue_link_title[link] = title\n",
    "        \n",
    "        \n",
    "    return dic_issue_link_title\n"
   ]
  },
  {
   "cell_type": "code",
   "execution_count": null,
   "id": "28933144-85a8-4a6e-ac21-681a4fcbf81f",
   "metadata": {},
   "outputs": [],
   "source": []
  },
  {
   "cell_type": "markdown",
   "id": "001971b6-638a-4fdc-bfc6-36327792f787",
   "metadata": {},
   "source": [
    "## Get papers in one issue.\n",
    "\n",
    "### notebook"
   ]
  },
  {
   "cell_type": "code",
   "execution_count": 27,
   "id": "8f4933f8-3b2b-403f-93ec-2d964f39eea6",
   "metadata": {},
   "outputs": [
    {
     "name": "stdout",
     "output_type": "stream",
     "text": [
      "link:  https://www.aeaweb.org/articles?id=10.1257/mic.20200129 ,  title:  Stability of Experimental Results: Forecasts and Evidence\n"
     ]
    }
   ],
   "source": [
    "# get lists of paper from a issue page\n",
    "\n",
    "\n",
    "# ex:\n",
    "url_aer_issue = \"https://www.aeaweb.org/issues/687\"\n",
    "\n",
    "soup_obj = soup(url_aer_issue)\n",
    "lst_papers = soup_obj.find_all('a', href=re.compile('/articles?'))\n",
    "\n",
    "\n",
    "dic_paper_link_title = {}\n",
    "\n",
    "for paper in lst_papers:\n",
    "    link = base_url_aer + paper['href']\n",
    "    title = paper.text\n",
    "    \n",
    "    if title==\"Front Matter\":\n",
    "        continue\n",
    "    \n",
    "    dic_paper_link_title[link] = title\n",
    "\n",
    "#debug\n",
    "print(\"link: \",link, \", \", \"title: \", title)"
   ]
  },
  {
   "cell_type": "code",
   "execution_count": 29,
   "id": "bb66691a-55f4-4147-8511-a7b78d8ba91f",
   "metadata": {},
   "outputs": [
    {
     "data": {
      "text/plain": [
       "{'https://www.aeaweb.org/articles?id=10.1257/mic.20180033': 'Term Limits and Bargaining Power in Electoral Competition',\n",
       " 'https://www.aeaweb.org/articles?id=10.1257/mic.20200041': 'Political Competition with Endogenous Party Formation and Citizen Activists',\n",
       " 'https://www.aeaweb.org/articles?id=10.1257/mic.20200074': 'Adviser Compensation, Endogenous Entry, and the Advice Gap',\n",
       " 'https://www.aeaweb.org/articles?id=10.1257/mic.20200059': 'Class Actions and Private Antitrust Litigation',\n",
       " 'https://www.aeaweb.org/articles?id=10.1257/mic.20200128': 'Contract Duration and the Costs of Market Transactions',\n",
       " 'https://www.aeaweb.org/articles?id=10.1257/mic.20190307': 'Platform Governance',\n",
       " 'https://www.aeaweb.org/articles?id=10.1257/mic.20190339': 'A Theory of Crime and Vigilance',\n",
       " 'https://www.aeaweb.org/articles?id=10.1257/mic.20200049': 'Trust and Promises over Time',\n",
       " 'https://www.aeaweb.org/articles?id=10.1257/mic.20170139': 'Strategic Teaching and Learning in Games',\n",
       " 'https://www.aeaweb.org/articles?id=10.1257/mic.20200106': 'Learning in Games and the Interpretation of Natural Experiments',\n",
       " 'https://www.aeaweb.org/articles?id=10.1257/mic.20200111': 'The Focal Luce Model',\n",
       " 'https://www.aeaweb.org/articles?id=10.1257/mic.20180233': 'Waiting to Choose: The Role of Deliberation in Intertemporal Choice',\n",
       " 'https://www.aeaweb.org/articles?id=10.1257/mic.20190059': 'Acquisition, Aggregation, and Sharing of Information in Sequential-Move Aggregative Games',\n",
       " 'https://www.aeaweb.org/articles?id=10.1257/mic.20200115': 'Investment and Information Acquisition',\n",
       " 'https://www.aeaweb.org/articles?id=10.1257/mic.20200134': 'Attention Oligopoly',\n",
       " 'https://www.aeaweb.org/articles?id=10.1257/mic.20200020': 'Searching Forever After',\n",
       " 'https://www.aeaweb.org/articles?id=10.1257/mic.20200070': 'Experience Goods and Consumer Search',\n",
       " 'https://www.aeaweb.org/articles?id=10.1257/mic.20200027': 'Competitive Information Disclosure to an Auctioneer',\n",
       " 'https://www.aeaweb.org/articles?id=10.1257/mic.20190276': 'Dynamic Competition and Arbitrage in Electricity Markets: The Role of Financial Players',\n",
       " 'https://www.aeaweb.org/articles?id=10.1257/mic.20190232': 'Production Clustering and Offshoring',\n",
       " 'https://www.aeaweb.org/articles?id=10.1257/mic.20180270': 'Trade and Urbanization: Evidence from Hungary',\n",
       " 'https://www.aeaweb.org/articles?id=10.1257/mic.20200121': 'Substitution Effects in Intertemporal Problems',\n",
       " 'https://www.aeaweb.org/articles?id=10.1257/mic.20200015': 'Fairness through the Lens of Cooperative Game Theory: An Experimental Approach',\n",
       " 'https://www.aeaweb.org/articles?id=10.1257/mic.20200017': 'Belief Elicitation When More than Money Matters: Controlling for \"Control\"',\n",
       " 'https://www.aeaweb.org/articles?id=10.1257/mic.20200129': 'Stability of Experimental Results: Forecasts and Evidence'}"
      ]
     },
     "execution_count": 29,
     "metadata": {},
     "output_type": "execute_result"
    }
   ],
   "source": [
    "dic_paper_link_title"
   ]
  },
  {
   "cell_type": "code",
   "execution_count": null,
   "id": "5bf3ecaa-8acd-4b42-831e-be90ca9575b3",
   "metadata": {
    "tags": []
   },
   "outputs": [],
   "source": []
  },
  {
   "cell_type": "code",
   "execution_count": null,
   "id": "56973d8b-bb2b-447a-a6c0-3598d4537dc3",
   "metadata": {},
   "outputs": [],
   "source": []
  },
  {
   "cell_type": "markdown",
   "id": "a3627a1f-36c0-46e8-9d56-0b4818e15799",
   "metadata": {},
   "source": [
    "### function"
   ]
  },
  {
   "cell_type": "code",
   "execution_count": 11,
   "id": "24a8f016-6208-4e61-874d-a5718c52911d",
   "metadata": {},
   "outputs": [],
   "source": [
    "def scrape_aer_papers_in_issue(url_aer_issue):\n",
    "    \"\"\" get paper titles and links of a issue.\n",
    "    \n",
    "    Args:\n",
    "        url_aer_issue (str): link of a issue page.(ex: \"https://www.aeaweb.org/issues/689\")\n",
    "    \n",
    "    Returns:\n",
    "        dic_paper_link_title (dict): key is paper link, value is paper title.\n",
    "    \"\"\"\n",
    "    \n",
    "    dic_paper_link_title = {}\n",
    "    \n",
    "    soup_obj = soup(url_aer_issue)\n",
    "    lst_papers = soup_obj.find_all('a', href=re.compile('/articles?'))\n",
    "    \n",
    "    for paper in lst_papers:\n",
    "        link = base_url_aer + paper['href']\n",
    "        title = paper.text\n",
    "\n",
    "        if title==\"Front Matter\":\n",
    "            continue\n",
    "\n",
    "        dic_paper_link_title[link] = title\n",
    "        \n",
    "    return dic_paper_link_title\n",
    "    \n",
    "    "
   ]
  },
  {
   "cell_type": "code",
   "execution_count": null,
   "id": "a379e5b4-a816-40c6-b2f2-d4b76fbbc8f2",
   "metadata": {},
   "outputs": [],
   "source": []
  },
  {
   "cell_type": "code",
   "execution_count": null,
   "id": "ffc3f490-28a8-4c28-9bd9-604168aac1bc",
   "metadata": {},
   "outputs": [],
   "source": []
  },
  {
   "cell_type": "markdown",
   "id": "ec408deb-41f0-4d91-abee-06b348c5dc73",
   "metadata": {},
   "source": [
    "## Get information from a paper page\n",
    "### notebook"
   ]
  },
  {
   "cell_type": "code",
   "execution_count": 13,
   "id": "fe7fdc9b-f811-4c85-95a0-05c4d4a40341",
   "metadata": {},
   "outputs": [],
   "source": [
    "# get information from a paper page\n",
    "\n",
    "#ex: \n",
    "url_aer_paper = \"https://www.aeaweb.org/articles?id=10.1257/000282803322655482\"\n",
    "\n",
    "#ex2:\n",
    "url_aer_paper = \"https://www.aeaweb.org/articles?id=10.1257/aer.20181811\"\n",
    "\n",
    "\n",
    "\n",
    "soup_obj = soup(url_aer_paper)\n",
    "lst_metadata = soup_obj.find_all('meta')\n",
    "\n",
    "\n",
    "paper_info = {}\n",
    "lst_dict_author = []\n",
    "str_abstract = ''\n",
    "str_title = ''\n",
    "\n",
    "#TODO: get \"Additional Material\"information.\n",
    "lst_additional_materials = []\n",
    "\n",
    "\n",
    "dict_author = {\n",
    "        'name': '',\n",
    "        'institution': ''\n",
    "    }\n",
    "\n",
    "for metadata in lst_metadata:\n",
    "    name_metadata = metadata.get('name')\n",
    "    \n",
    "    if(name_metadata == 'citation_author'):    \n",
    "        author_name = metadata.get('content')\n",
    "        dict_author['name'] = author_name\n",
    "        continue\n",
    "        \n",
    "        \n",
    "    if(name_metadata == 'citation_author_institution'):\n",
    "        author_institution = metadata.get('content')\n",
    "        dict_author['institution'] = author_institution\n",
    "\n",
    "        copy_dict_author = dict_author.copy()        \n",
    "        lst_dict_author.append(copy_dict_author)\n",
    "        continue\n",
    "\n",
    "    \n",
    "    if(name_metadata == 'citation_title'):\n",
    "        str_title = metadata.get('content')\n",
    "        continue\n",
    "    \n",
    "    if(name_metadata == 'twitter:description'):\n",
    "        str_abstract = metadata.get('content')\n",
    "        continue\n",
    "        \n",
    "        \n",
    "#TODO: get category text information.\n",
    "\n",
    "\n",
    "# get category codes\n",
    "lst_jel_categories = []\n",
    "soup_class_code = soup_obj.find_all(\"strong\", {\"class\":\"code\"})\n",
    "\n",
    "for item in soup_class_code:\n",
    "    category_code = item.contents[0]\n",
    "    lst_jel_categories.append(category_code)\n"
   ]
  },
  {
   "cell_type": "code",
   "execution_count": null,
   "id": "0b81635d-82ca-4e2e-889d-2637077aad9e",
   "metadata": {},
   "outputs": [],
   "source": []
  },
  {
   "cell_type": "code",
   "execution_count": 21,
   "id": "4a2d01a5-2b7c-4827-a749-b8880bd380a5",
   "metadata": {},
   "outputs": [
    {
     "data": {
      "text/plain": [
       "['G21', 'G51', 'L25', 'O16', 'P34', 'G21', 'G51', 'L25', 'O16', 'P34']"
      ]
     },
     "execution_count": 21,
     "metadata": {},
     "output_type": "execute_result"
    }
   ],
   "source": [
    "lst_jel_categories"
   ]
  },
  {
   "cell_type": "markdown",
   "id": "8d2c20b7-1943-486b-93a6-7df0e573e043",
   "metadata": {},
   "source": [
    "### WIP: Get \"Additional Material\""
   ]
  },
  {
   "cell_type": "code",
   "execution_count": 15,
   "id": "0b0fc377-a172-4481-98b8-2101ca035f63",
   "metadata": {
    "tags": []
   },
   "outputs": [],
   "source": [
    "a = soup_obj.find(id=\"additionalMaterials\")\n",
    "\n",
    "#a.contents[1].contents[1]\n",
    "#a.contents[1].contents[1]['href']\n",
    "#a.contents[1].contents[1].contents[0].strip()"
   ]
  },
  {
   "cell_type": "code",
   "execution_count": null,
   "id": "35d3077b-6893-4fd5-abe9-7fbf8a411e37",
   "metadata": {},
   "outputs": [],
   "source": []
  },
  {
   "cell_type": "markdown",
   "id": "a43d05ad-c391-4912-9cea-81969162f9fa",
   "metadata": {},
   "source": [
    "### WIP: Get category code and info"
   ]
  },
  {
   "cell_type": "code",
   "execution_count": 16,
   "id": "e97bc92b-342c-4ed5-8df8-8e66cb8dcf19",
   "metadata": {},
   "outputs": [],
   "source": [
    "soup_class_code = soup_obj.find_all(\"strong\", {\"class\":\"code\"})\n",
    "\n",
    "for item in soup_class_code:\n",
    "    category_code = item.contents[0]\n",
    "    lst_jel_categories.append(category_code)"
   ]
  },
  {
   "cell_type": "code",
   "execution_count": 17,
   "id": "e182a5f4-b77a-4934-b059-0bb06cb79e7e",
   "metadata": {},
   "outputs": [
    {
     "name": "stdout",
     "output_type": "stream",
     "text": [
      "Banks; Depository Institutions; Micro Finance Institutions; Mortgages\n",
      "<class 'str'>\n"
     ]
    }
   ],
   "source": [
    "soup_class_code = soup_obj.find_all(\"ul\", {\"class\":\"jel-codes\"})\n",
    "\n",
    "for item in soup_class_code:\n",
    "    print(item.contents[1].contents[2].text.strip())\n",
    "    \n",
    "    print(type(item.contents[1].contents[2].text))\n",
    "    \n",
    "    break"
   ]
  },
  {
   "cell_type": "code",
   "execution_count": null,
   "id": "fa0cc557-3169-46de-ac94-28420ea17f60",
   "metadata": {},
   "outputs": [],
   "source": []
  },
  {
   "cell_type": "markdown",
   "id": "e84733d8-7d37-48f5-90c8-cbb29bfc449a",
   "metadata": {},
   "source": [
    "### function"
   ]
  },
  {
   "cell_type": "code",
   "execution_count": 18,
   "id": "6922d411-e86b-4d65-a840-c7b3d2695433",
   "metadata": {},
   "outputs": [],
   "source": [
    "def scrape_aer_info_in_paper(url_aer_paper):\n",
    "    \"\"\"get information about a paper.\n",
    "    \n",
    "    returns paper information something like below.\n",
    "    \n",
    "        {\n",
    "            \"title_str\": \"Aggregating Distributional Treatment Effects: A Bayesian Hierarchical Analysis of the Microcredit Literature\",\n",
    "            \"author_lst\": [\n",
    "                {\n",
    "                    \"name\": \"Meager, Rachael\",\n",
    "                    \"institution\": \"London School of Economics and Political Science\"\n",
    "                }\n",
    "            ],\n",
    "            \"abstract_str\": \"(June 2022) - Expanding credit access in developing contexts could help some households while harming others. Microcredit studies show different effects at different quantiles of household profit, including some negative effects; yet these findings also differ across studies. I develop new Bayesian hierarchical models to aggregate the evidence on these distributional effects for mixture-type outcomes such as household profit. Applying them to microcredit, I find a precise zero effect from the fifth to seventy-fifth quantiles, and uncertain yet large effects on the upper tails, particularly for households with business experience. These quantile estimates are more reliable than averages because the data are fat tailed.\",\n",
    "            \"categorycode_lst\": [\n",
    "                \"G21\",\n",
    "                \"G51\",\n",
    "                \"L25\",\n",
    "                \"O16\",\n",
    "                \"P34\"\n",
    "            ]\n",
    "        }\n",
    "    \n",
    "    \n",
    "    Args:\n",
    "        url_aer_paper (str): link of a paper page.(ex: \"https://www.aeaweb.org/articles?id=10.1257/aer.20181811\")\n",
    "    \n",
    "    Returns:\n",
    "        paper_info (dict): paper information\n",
    "    \"\"\"\n",
    "    \n",
    "    soup_obj = soup(url_aer_paper)\n",
    "    lst_metadata = soup_obj.find_all('meta')\n",
    "\n",
    "    paper_info = {}\n",
    "    lst_dict_author = []\n",
    "    str_title = ''\n",
    "    str_abstract = ''\n",
    "\n",
    "    #TODO: get \"Additional Material\"information.\n",
    "    lst_additional_materials = []\n",
    "    \n",
    "    #TODO: get category text information.\n",
    "    lst_dict_category = []\n",
    "    \n",
    "    lst_jel_categorycode = []\n",
    "\n",
    "\n",
    "    dict_author = {\n",
    "            'name': '',\n",
    "            'institution': ''\n",
    "        }\n",
    "\n",
    "    for metadata in lst_metadata:\n",
    "        name_metadata = metadata.get('name')\n",
    "\n",
    "        if(name_metadata == 'citation_author'):    \n",
    "            author_name = metadata.get('content')\n",
    "            dict_author['name'] = author_name\n",
    "            continue\n",
    "\n",
    "\n",
    "        if(name_metadata == 'citation_author_institution'):\n",
    "            author_institution = metadata.get('content')\n",
    "            dict_author['institution'] = author_institution\n",
    "\n",
    "            copy_dict_author = dict_author.copy()        \n",
    "            lst_dict_author.append(copy_dict_author)\n",
    "            continue\n",
    "    \n",
    "    \n",
    "        if(name_metadata == 'citation_title'):\n",
    "            str_title = metadata.get('content')\n",
    "            continue\n",
    "    \n",
    "\n",
    "        if(name_metadata == 'twitter:description'):\n",
    "            str_abstract = metadata.get('content')\n",
    "            continue\n",
    "\n",
    "    # get category codes\n",
    "    soup_class_code = soup_obj.find_all(\"strong\", {\"class\":\"code\"})\n",
    "\n",
    "    for item in soup_class_code:\n",
    "        category_code = item.contents[0]\n",
    "        lst_jel_categorycode.append(category_code)\n",
    "\n",
    "    \n",
    "    paper_info[\"title_str\"] = str_title\n",
    "    paper_info[\"author_lst\"] = lst_dict_author\n",
    "    paper_info[\"abstract_str\"] = str_abstract\n",
    "    paper_info[\"categorycode_lst\"] = lst_jel_categorycode\n",
    "    \n",
    "    #TODO\n",
    "    #paper_info[\"category\"] = xxx\n",
    "    #paper_info[\"additional_material\"] = xxx\n",
    "    \n",
    "    \n",
    "    return paper_info"
   ]
  },
  {
   "cell_type": "code",
   "execution_count": 22,
   "id": "29e24f18-d5c2-420a-842b-1d216c34bdeb",
   "metadata": {},
   "outputs": [
    {
     "data": {
      "text/plain": [
       "{'title_str': 'Supply Network Formation and Fragility',\n",
       " 'author_lst': [{'name': 'Elliott, Matthew', 'institution': 'U of Cambridge'},\n",
       "  {'name': 'Golub, Benjamin', 'institution': 'Northwestern U'},\n",
       "  {'name': 'Leduc, Matthew V.',\n",
       "   'institution': 'Paris School of Economics and U of Paris 1 Pantheon-Sorbonne'}],\n",
       " 'abstract_str': '(August 2022) - We model the production of complex goods in a large supply network. Each firm sources several essential inputs through relationships with other firms. Individual supply relationships are at risk of idiosyncratic failure, which threatens to disrupt production. To protect against this, firms multisource inputs and strategically invest to make relationships stronger, trading off the cost of investment against the benefits of increased robustness. A supply network is called fragile if aggregate output is very sensitive to small aggregate shocks. We show that supply networks of intermediate productivity are fragile in equilibrium, even though this is always inefficient. The endogenous configuration of supply networks provides a new channel for the powerful amplification of shocks.',\n",
       " 'categorycode_lst': ['D21', 'G31', 'L14']}"
      ]
     },
     "execution_count": 22,
     "metadata": {},
     "output_type": "execute_result"
    }
   ],
   "source": [
    "scrape_aer_info_in_paper(\"https://www.aeaweb.org/articles?id=10.1257/aer.20210220\")"
   ]
  },
  {
   "cell_type": "code",
   "execution_count": null,
   "id": "44b96616-08c1-4a10-8c66-6edff55bf976",
   "metadata": {},
   "outputs": [],
   "source": []
  },
  {
   "cell_type": "code",
   "execution_count": null,
   "id": "86073952-d9e2-4584-98bb-799db43186fa",
   "metadata": {},
   "outputs": [],
   "source": []
  },
  {
   "cell_type": "markdown",
   "id": "161b52d1-fcbe-45ff-ae33-989dc5b74444",
   "metadata": {},
   "source": [
    "# All in Once"
   ]
  },
  {
   "cell_type": "code",
   "execution_count": null,
   "id": "6c121dc5-c102-4a0d-8ea3-ab731b2f40da",
   "metadata": {},
   "outputs": [],
   "source": [
    "#Get paper information from a limited number's issues.\n",
    "\n",
    "limit = 5\n",
    "\n",
    "paper_info_lst = []\n",
    "\n",
    "aer_issues = scrape_aer_issues()\n",
    "keys_aer_issues = list(aer_issues.keys())\n",
    "\n",
    "for i in range(limit):\n",
    "    issue_url = keys_aer_issues[i]\n",
    "    papers_dict = scrape_aer_papers_in_issue(issue_url)\n",
    "    \n",
    "    paper_url_lst = list(papers_dict.keys())\n",
    "    for paper_url in paper_url_lst:\n",
    "        paper_info = scrape_aer_info_in_paper(paper_url)\n",
    "        \n",
    "        # extract DOI from AER URL.\n",
    "        keyword = '/articles?id='\n",
    "        slice_index = paper_url.find(keyword)\n",
    "        slice_index += len(keyword)\n",
    "        \n",
    "        # use DOI(Digital Object Identifier)  \n",
    "        # replace '/' with '_' because this DOI will be used as dataID in DB. (or an error occur.)\n",
    "        doi = paper_url[slice_index:]\n",
    "        doi_replaced = doi.replace('/', '_')\n",
    "        \n",
    "        #debug:\n",
    "        print(\"DOI before: \", doi)\n",
    "        print(\"DOI after: \", doi_replaced)\n",
    "        \n",
    "        paper_info_lst.append(paper_info)\n"
   ]
  }
 ],
 "metadata": {
  "kernelspec": {
   "display_name": "Python 3 (ipykernel)",
   "language": "python",
   "name": "python3"
  },
  "language_info": {
   "codemirror_mode": {
    "name": "ipython",
    "version": 3
   },
   "file_extension": ".py",
   "mimetype": "text/x-python",
   "name": "python",
   "nbconvert_exporter": "python",
   "pygments_lexer": "ipython3",
   "version": "3.10.4"
  }
 },
 "nbformat": 4,
 "nbformat_minor": 5
}
